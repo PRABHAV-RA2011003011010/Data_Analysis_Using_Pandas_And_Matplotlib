{
 "cells": [
  {
   "cell_type": "code",
   "execution_count": 3,
   "metadata": {},
   "outputs": [],
   "source": [
    "import pandas as pd\n",
    "import os\n",
    "import glob\n"
   ]
  },
  {
   "cell_type": "code",
   "execution_count": 8,
   "metadata": {},
   "outputs": [],
   "source": [
    "base_dir=r'C:\\Users\\prabh\\OneDrive\\Desktop\\Data_Analysis_Using_Pandas_And_Matplotlib\\data'\n",
    "\n",
    "for subfolder1 in os.listdir(base_dir):\n",
    "    subfolder1_path=os.path.join(base_dir,subfolder1)\n",
    "    dataframes = []\n",
    "    \n",
    "    if os.path.isdir(subfolder1_path):\n",
    "        for subfolder in os.listdir(subfolder1_path):\n",
    "            subfolder_path = os.path.join(subfolder1_path, subfolder)\n",
    "            \n",
    "            \n",
    "            if os.path.isdir(subfolder_path):\n",
    "                for file_name in os.listdir(subfolder_path):\n",
    "                    file_path = os.path.join(subfolder_path, file_name)\n",
    "                    \n",
    "                    \n",
    "                    if os.path.isfile(file_path):\n",
    "                        \n",
    "                        df = pd.read_csv(file_path)  \n",
    "                        dataframes.append(df)\n",
    "\n",
    "    combined_df = pd.concat(dataframes, ignore_index=True)\n",
    "\n",
    "    folder_path = r'C:\\Users\\prabh\\OneDrive\\Desktop\\Data_Analysis_Using_Pandas_And_Matplotlib\\Combined_data'  \n",
    "    combined_file_path=os.path.join(folder_path,subfolder1)\n",
    "\n",
    "    combined_df.to_csv(combined_file_path, index=False)"
   ]
  }
 ],
 "metadata": {
  "kernelspec": {
   "display_name": "base",
   "language": "python",
   "name": "python3"
  },
  "language_info": {
   "codemirror_mode": {
    "name": "ipython",
    "version": 3
   },
   "file_extension": ".py",
   "mimetype": "text/x-python",
   "name": "python",
   "nbconvert_exporter": "python",
   "pygments_lexer": "ipython3",
   "version": "3.9.13"
  }
 },
 "nbformat": 4,
 "nbformat_minor": 2
}
